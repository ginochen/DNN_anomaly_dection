{
 "cells": [
  {
   "cell_type": "markdown",
   "metadata": {},
   "source": [
    "# DNN Multi-Feature Credit Card Fraud Detection"
   ]
  },
  {
   "cell_type": "markdown",
   "metadata": {},
   "source": [
    "# Overview\n",
    "The purpose of this project is to use fully connected deep neural network (DNN) to detect the fraudulent credit card transactions in the multi-feature dataset. This is a classification problem, and the results by DNN are expected to show a multi-dimensional \"decision boundary\" that are hard to be defined by conventional classification techniques, e.g., SVM.\n",
    "\n",
    "What's learned?\n",
    "* Imbalanced classification\n",
    " * With imbalanced/small number of anomalies, the anomaly \"duplication\" during training and using dropout layers does not lead to overfitting.\n",
    "* Sensitivity analysis using histogram, confusion matrix and ROC\n",
    "\n",
    "\n",
    "# Data\n",
    "The dataset is based on kaggle's [credit card fraud detection](https://www.kaggle.com/mlg-ulb/creditcardfraud#creditcard.csv). According to the website, the dataset contains transactions occurred in two days made by credit cards in September 2013 by european cardholders. The positive class/frauds, 492 frauds out of 284,807 transactions, account for 0.172% of all transactions.\n",
    "\n",
    "The credit card data features V1, V2, ..., V28 provided are numerical principle components (PC) obtained with principle component analysis (PCA) transformation. Therefore, each feature data is already normalized by the PC variance, and has zero mean and unit variance. The original features are not allowed due to confidentiality issues. The only features without PCA transformation are 'Time' (seconds elapsed between each transaction and the first transaction in the dataset) and 'Amount' (transaction Amount). Feature 'Class' is the response variable and it takes value 1 in case of fraud and 0 otherwise.  \n",
    "\n",
    "Since the PCA data are normalized, they can be worked directly as inputs for DNN. The 'Class' of 0 and 1 can be treated directly as the output using a sigmoid at the output layer.\n",
    "\n",
    "Import necessary libraries:"
   ]
  },
  {
   "cell_type": "code",
   "execution_count": 56,
   "metadata": {},
   "outputs": [],
   "source": [
    "import pandas as pd\n",
    "from pandas import DataFrame as df\n",
    "import math\n",
    "import numpy as np\n",
    "import time\n",
    "from random import shuffle\n",
    "from matplotlib import pyplot as plt\n",
    "import itertools\n",
    "# ML tools\n",
    "import sklearn\n",
    "from sklearn.metrics import roc_auc_score,roc_curve,auc,confusion_matrix, f1_score, fbeta_score\n",
    "from sklearn.preprocessing import MinMaxScaler\n",
    "import tensorflow as tf\n",
    "import keras\n",
    "from keras.models import Sequential\n",
    "from keras.layers import Input, Dense, Dropout, LSTM, TimeDistributed,Activation\n",
    "from keras.callbacks import EarlyStopping, ModelCheckpoint"
   ]
  },
  {
   "cell_type": "markdown",
   "metadata": {},
   "source": [
    "Batch data generator for model training:"
   ]
  },
  {
   "cell_type": "code",
   "execution_count": 57,
   "metadata": {},
   "outputs": [],
   "source": [
    "class KerasBatchGenerator:\n",
    "    def __init__(self,data,batchsize,ndim,nsteps,skip_steps):\n",
    "        self.data=data\n",
    "        self.batchsize=batchsize\n",
    "        self.current_idx=0\n",
    "        self.nsteps=nsteps\n",
    "        self.skip_steps = skip_steps\n",
    "        self.ndim = ndim\n",
    "    def generate(self,model):\n",
    "        #x = np.zeros((self.batchsize, self.ndim))            \n",
    "        #y = np.zeros((self.batchsize, 1))\n",
    "        x = np.zeros((self.nsteps, self.ndim))            \n",
    "        y = np.zeros((self.nsteps, 1))\n",
    "        while True:\n",
    "            for i in range(self.batchsize):\n",
    "                x, y = self.data[self.current_idx:self.current_idx+self.nsteps,:-1], self.data[self.current_idx:self.current_idx+self.nsteps,-1]\n",
    "                self.current_idx += self.skip_steps             \n",
    "                yield x, y # yield returns a set of x,y values for model.fit_generator to perform batch training"
   ]
  },
  {
   "cell_type": "markdown",
   "metadata": {},
   "source": [
    "Split data into train, valid, and test and create batches using KerasBatchGenerator:"
   ]
  },
  {
   "cell_type": "code",
   "execution_count": 58,
   "metadata": {},
   "outputs": [],
   "source": [
    "# Define model parameters\n",
    "batchsize = 30 # number of mini-batches per epoch\n",
    "nsteps = 32 # number of samples in each mini-batch\n",
    "ndim = 29  # feature dimensions\n",
    "hdim = 100 # hidden layer dimensions\n",
    "hlayers= 20 # hidden layers\n",
    "nepochs=50\n",
    "dropoutRate = 0.2\n",
    "datapath = 'data/'\n",
    "data = pd.read_csv('data/creditcard.csv')\n",
    "n = data.shape[0] # total sample size\n",
    "\n",
    "# scale the \"amount\" column\n",
    "scaler = MinMaxScaler(feature_range=(-1, 1))\n",
    "\n",
    "\n",
    "scaler.fit(data.values[:,-2].reshape(-1,1)) # last dimension is the label\n",
    "amount_scaled = scaler.fit_transform(X=data.values[:,-2].reshape(-1,1))\n",
    "data = np.concatenate([data.values[:,1:-2], amount_scaled, data.values[:,-1].reshape(-1,1)],axis=1) # drop the 1st time column and replace the scaled amount\n",
    "\n",
    "data_ones = data[data[:,-1]==1,:] # get the feature data with label 1\n",
    "data_zeros = data[data[:,-1]==0,:]\n",
    "#print(len(zeros[:round(0.8*len(zeros))]))\n",
    "\n",
    "# shuffle data with ones into data with zeros\n",
    "nrepeat=300\n",
    "nz = len(data_ones)\n",
    "train = np.concatenate([data[:round(0.8*n)],             np.repeat(data_ones[:round(0.8*nz)],nrepeat,axis=0)],axis=0)\n",
    "valid = np.concatenate([data[round(0.8*n):round(0.9*n)], np.repeat(data_ones[round(0.8*nz):round(0.9*nz)],nrepeat,axis=0)],axis=0)\n",
    "#test  = np.concatenate([data[round(0.9*n):],             np.repeat(data_ones[round(0.9*nz):],nrepeat,axis=0)],axis=0)\n",
    "test  = data[round(0.9*n):]\n",
    "\n",
    "\n",
    "np.random.shuffle(train), np.random.shuffle(valid)#, np.random.shuffle(test)\n",
    "\n",
    "train_data_generator = KerasBatchGenerator(train, batchsize, ndim, nsteps, skip_steps=nsteps)\n",
    "valid_data_generator = KerasBatchGenerator(valid, batchsize, ndim, nsteps, skip_steps=nsteps)"
   ]
  },
  {
   "cell_type": "code",
   "execution_count": 59,
   "metadata": {},
   "outputs": [
    {
     "name": "stdout",
     "output_type": "stream",
     "text": [
      "(284807, 30) (346046, 30)\n"
     ]
    }
   ],
   "source": [
    "print(data.shape,train.shape)"
   ]
  },
  {
   "cell_type": "markdown",
   "metadata": {},
   "source": [
    "As shown in above codes, the anomalies duplicated (using `np.repeat`) since they only account for 0.17% of the total data which makes the model training very hard. The data is split into 80,10,10 percent for training, validation and testing. The anomaly duplication is only done in training and validation."
   ]
  },
  {
   "cell_type": "markdown",
   "metadata": {},
   "source": [
    "# Build Model\n",
    "The model contains fully connected layers with dropout enabled to prevent overfitting:"
   ]
  },
  {
   "cell_type": "code",
   "execution_count": 60,
   "metadata": {},
   "outputs": [],
   "source": [
    "# create the model according to the local paper\n",
    "\n",
    "def build_model(ndim,hdim,hlayers,dropoutRate, datapath):\n",
    "    model = Sequential()\n",
    "    model.add(Dense(ndim, input_dim= ndim, kernel_initializer='glorot_normal', activation='relu'))\n",
    "    for _ in range(hlayers-1):\n",
    "        model.add(Dropout(dropoutRate))\n",
    "        model.add(Dense(hdim, kernel_initializer='glorot_normal', activation='relu')) \n",
    "    model.add(Dense(1,kernel_initializer='glorot_normal', activation='sigmoid')) # determine the probability of anomaly \n",
    "    model.compile(optimizer='adam', loss='binary_crossentropy', metrics=[\"accuracy\"])\n",
    "#    checkpointer = keras.callbacks.ModelCheckpoint(filepath=datapath + '/model-{epoch:02d}.hdf5', verbose=1)\n",
    "    checkpointer = [EarlyStopping(monitor='val_loss', patience=10), # patience: wait for at least 5 epochs before early stopping\n",
    "       ModelCheckpoint(filepath=datapath+'/best_model.h5', monitor='val_loss', save_best_only=True, verbose=1)]\n",
    "    model.summary()\n",
    "    return model, checkpointer"
   ]
  },
  {
   "cell_type": "markdown",
   "metadata": {},
   "source": [
    "# Train Model\n",
    "Each epoch during the training are saved for the purpose to select the best model, let's start training:"
   ]
  },
  {
   "cell_type": "code",
   "execution_count": 61,
   "metadata": {},
   "outputs": [
    {
     "name": "stdout",
     "output_type": "stream",
     "text": [
      "346046\n",
      "960\n",
      "360\n"
     ]
    }
   ],
   "source": [
    "print(len(train))\n",
    "print(batchsize*nsteps)\n",
    "print(len(train)//(batchsize*nsteps))"
   ]
  },
  {
   "cell_type": "code",
   "execution_count": 62,
   "metadata": {},
   "outputs": [
    {
     "name": "stdout",
     "output_type": "stream",
     "text": [
      "_________________________________________________________________\n",
      "Layer (type)                 Output Shape              Param #   \n",
      "=================================================================\n",
      "dense_148 (Dense)            (None, 29)                870       \n",
      "_________________________________________________________________\n",
      "dropout_134 (Dropout)        (None, 29)                0         \n",
      "_________________________________________________________________\n",
      "dense_149 (Dense)            (None, 100)               3000      \n",
      "_________________________________________________________________\n",
      "dropout_135 (Dropout)        (None, 100)               0         \n",
      "_________________________________________________________________\n",
      "dense_150 (Dense)            (None, 100)               10100     \n",
      "_________________________________________________________________\n",
      "dropout_136 (Dropout)        (None, 100)               0         \n",
      "_________________________________________________________________\n",
      "dense_151 (Dense)            (None, 100)               10100     \n",
      "_________________________________________________________________\n",
      "dropout_137 (Dropout)        (None, 100)               0         \n",
      "_________________________________________________________________\n",
      "dense_152 (Dense)            (None, 100)               10100     \n",
      "_________________________________________________________________\n",
      "dropout_138 (Dropout)        (None, 100)               0         \n",
      "_________________________________________________________________\n",
      "dense_153 (Dense)            (None, 100)               10100     \n",
      "_________________________________________________________________\n",
      "dropout_139 (Dropout)        (None, 100)               0         \n",
      "_________________________________________________________________\n",
      "dense_154 (Dense)            (None, 100)               10100     \n",
      "_________________________________________________________________\n",
      "dropout_140 (Dropout)        (None, 100)               0         \n",
      "_________________________________________________________________\n",
      "dense_155 (Dense)            (None, 100)               10100     \n",
      "_________________________________________________________________\n",
      "dropout_141 (Dropout)        (None, 100)               0         \n",
      "_________________________________________________________________\n",
      "dense_156 (Dense)            (None, 100)               10100     \n",
      "_________________________________________________________________\n",
      "dropout_142 (Dropout)        (None, 100)               0         \n",
      "_________________________________________________________________\n",
      "dense_157 (Dense)            (None, 100)               10100     \n",
      "_________________________________________________________________\n",
      "dropout_143 (Dropout)        (None, 100)               0         \n",
      "_________________________________________________________________\n",
      "dense_158 (Dense)            (None, 100)               10100     \n",
      "_________________________________________________________________\n",
      "dropout_144 (Dropout)        (None, 100)               0         \n",
      "_________________________________________________________________\n",
      "dense_159 (Dense)            (None, 100)               10100     \n",
      "_________________________________________________________________\n",
      "dropout_145 (Dropout)        (None, 100)               0         \n",
      "_________________________________________________________________\n",
      "dense_160 (Dense)            (None, 100)               10100     \n",
      "_________________________________________________________________\n",
      "dropout_146 (Dropout)        (None, 100)               0         \n",
      "_________________________________________________________________\n",
      "dense_161 (Dense)            (None, 100)               10100     \n",
      "_________________________________________________________________\n",
      "dropout_147 (Dropout)        (None, 100)               0         \n",
      "_________________________________________________________________\n",
      "dense_162 (Dense)            (None, 100)               10100     \n",
      "_________________________________________________________________\n",
      "dropout_148 (Dropout)        (None, 100)               0         \n",
      "_________________________________________________________________\n",
      "dense_163 (Dense)            (None, 100)               10100     \n",
      "_________________________________________________________________\n",
      "dropout_149 (Dropout)        (None, 100)               0         \n",
      "_________________________________________________________________\n",
      "dense_164 (Dense)            (None, 100)               10100     \n",
      "_________________________________________________________________\n",
      "dropout_150 (Dropout)        (None, 100)               0         \n",
      "_________________________________________________________________\n",
      "dense_165 (Dense)            (None, 100)               10100     \n",
      "_________________________________________________________________\n",
      "dropout_151 (Dropout)        (None, 100)               0         \n",
      "_________________________________________________________________\n",
      "dense_166 (Dense)            (None, 100)               10100     \n",
      "_________________________________________________________________\n",
      "dropout_152 (Dropout)        (None, 100)               0         \n",
      "_________________________________________________________________\n",
      "dense_167 (Dense)            (None, 100)               10100     \n",
      "_________________________________________________________________\n",
      "dense_168 (Dense)            (None, 1)                 101       \n",
      "=================================================================\n",
      "Total params: 185,771\n",
      "Trainable params: 185,771\n",
      "Non-trainable params: 0\n",
      "_________________________________________________________________\n",
      "Epoch 1/50\n",
      "360/360 [==============================] - 10s 27ms/step - loss: 0.2198 - acc: 0.9228 - val_loss: 0.1593 - val_acc: 0.9563\n",
      "\n",
      "Epoch 00001: val_loss improved from inf to 0.15928, saving model to data//best_model.h5\n",
      "Epoch 2/50\n",
      "360/360 [==============================] - 4s 11ms/step - loss: 0.1322 - acc: 0.9581 - val_loss: 0.1538 - val_acc: 0.9646\n",
      "\n",
      "Epoch 00002: val_loss improved from 0.15928 to 0.15381, saving model to data//best_model.h5\n",
      "Epoch 3/50\n",
      "360/360 [==============================] - 4s 11ms/step - loss: 0.1253 - acc: 0.9625 - val_loss: 0.1566 - val_acc: 0.9674\n",
      "\n",
      "Epoch 00003: val_loss did not improve from 0.15381\n",
      "Epoch 4/50\n",
      "360/360 [==============================] - 4s 11ms/step - loss: 0.1236 - acc: 0.9615 - val_loss: 0.1718 - val_acc: 0.9563\n",
      "\n",
      "Epoch 00004: val_loss did not improve from 0.15381\n",
      "Epoch 5/50\n",
      "360/360 [==============================] - 4s 12ms/step - loss: 0.1329 - acc: 0.9592 - val_loss: 0.1269 - val_acc: 0.9632\n",
      "\n",
      "Epoch 00005: val_loss improved from 0.15381 to 0.12691, saving model to data//best_model.h5\n",
      "Epoch 6/50\n",
      "360/360 [==============================] - 4s 12ms/step - loss: 0.1155 - acc: 0.9681 - val_loss: 0.1646 - val_acc: 0.9667\n",
      "\n",
      "Epoch 00006: val_loss did not improve from 0.12691\n",
      "Epoch 7/50\n",
      "360/360 [==============================] - 4s 11ms/step - loss: 0.1044 - acc: 0.9656 - val_loss: 0.1644 - val_acc: 0.9632\n",
      "\n",
      "Epoch 00007: val_loss did not improve from 0.12691\n",
      "Epoch 8/50\n",
      "360/360 [==============================] - 4s 12ms/step - loss: 0.1010 - acc: 0.9707 - val_loss: 0.1680 - val_acc: 0.9563\n",
      "\n",
      "Epoch 00008: val_loss did not improve from 0.12691\n",
      "Epoch 9/50\n",
      "360/360 [==============================] - 4s 12ms/step - loss: 0.0948 - acc: 0.9731 - val_loss: 0.1847 - val_acc: 0.9590\n",
      "\n",
      "Epoch 00009: val_loss did not improve from 0.12691\n",
      "Epoch 10/50\n",
      "360/360 [==============================] - 4s 11ms/step - loss: 0.0975 - acc: 0.9724 - val_loss: 0.1336 - val_acc: 0.9667\n",
      "\n",
      "Epoch 00010: val_loss did not improve from 0.12691\n",
      "Epoch 11/50\n",
      "360/360 [==============================] - 4s 11ms/step - loss: 0.0892 - acc: 0.9770 - val_loss: 0.1365 - val_acc: 0.9618\n",
      "\n",
      "Epoch 00011: val_loss did not improve from 0.12691\n",
      "Epoch 12/50\n",
      "360/360 [==============================] - 4s 11ms/step - loss: 0.0805 - acc: 0.9785 - val_loss: 0.1341 - val_acc: 0.9743\n",
      "\n",
      "Epoch 00012: val_loss did not improve from 0.12691\n",
      "Epoch 13/50\n",
      "360/360 [==============================] - 4s 11ms/step - loss: 0.0865 - acc: 0.9773 - val_loss: 0.3581 - val_acc: 0.9611\n",
      "\n",
      "Epoch 00013: val_loss did not improve from 0.12691\n",
      "Epoch 14/50\n"
     ]
    },
    {
     "name": "stdout",
     "output_type": "stream",
     "text": [
      "360/360 [==============================] - 4s 12ms/step - loss: 0.0837 - acc: 0.9772 - val_loss: 0.4369 - val_acc: 0.9660\n",
      "\n",
      "Epoch 00014: val_loss did not improve from 0.12691\n",
      "Epoch 15/50\n",
      "360/360 [==============================] - 4s 11ms/step - loss: 0.0738 - acc: 0.9776 - val_loss: 0.4397 - val_acc: 0.9708\n",
      "\n",
      "Epoch 00015: val_loss did not improve from 0.12691\n"
     ]
    },
    {
     "data": {
      "text/plain": [
       "<keras.callbacks.History at 0x131a44358>"
      ]
     },
     "execution_count": 62,
     "metadata": {},
     "output_type": "execute_result"
    }
   ],
   "source": [
    "# In order to reset_states for stateful_=True in the generater, \n",
    "# we need to pass the tensorflow session to the generator\n",
    "last_epoch = 0 # set this to 0 if model never trained\n",
    "callbacks = [EarlyStopping(monitor='val_loss', patience=2),\n",
    "             ModelCheckpoint(filepath='best_model.h5', monitor='val_loss', save_best_only=True)]\n",
    "model, checkpointer  = build_model(ndim, hdim, hlayers, dropoutRate, datapath)\n",
    "model.fit_generator(train_data_generator.generate(model), len(train)//(batchsize*nsteps), epochs=last_epoch+nepochs,\n",
    "                validation_data=valid_data_generator.generate(model), validation_steps=math.ceil(len(valid)/(batchsize*nsteps)),\n",
    "                callbacks=checkpointer,shuffle=True,initial_epoch=last_epoch,verbose=1)\n"
   ]
  },
  {
   "cell_type": "markdown",
   "metadata": {},
   "source": [
    "As shown in the training, the accuracy approaches 1 and then becomes NAN as a result of exploding gradient when the change in weight is close to zero at the denominator.\n",
    "\n",
    "# Single batch prediction\n",
    "Use the best trained model to make the anomaly prediction for a number of prediction_samp samples"
   ]
  },
  {
   "cell_type": "code",
   "execution_count": 63,
   "metadata": {},
   "outputs": [],
   "source": [
    "def predict(i_oldmodel,prediction_samp,data):\n",
    "    model = keras.models.load_model('data/best_model.h5')\n",
    "    y=[]\n",
    "    for i in range(prediction_samp):\n",
    "        curr_frame = data[i,:-1]   \n",
    "        y.append(model.predict(curr_frame[np.newaxis,:]))                \n",
    "    return y\n",
    "\n",
    "def plot_confusion_matrix(cm, classes,\n",
    "                          normalize=False,\n",
    "                          title='Confusion matrix',\n",
    "                          cmap=plt.cm.Blues):\n",
    "    \"\"\"\n",
    "    This function prints and plots the confusion matrix.\n",
    "    Normalization can be applied by setting `normalize=True`.\n",
    "    \"\"\"\n",
    "    if normalize:\n",
    "        cm = cm.astype('float') / cm.sum(axis=1)[:, np.newaxis]\n",
    "        print(\"Normalized confusion matrix\")\n",
    "    else:\n",
    "        print('Confusion matrix, without normalization')\n",
    "\n",
    "    print(cm)\n",
    "\n",
    "    plt.imshow(cm, interpolation='nearest', cmap=cmap)\n",
    "    plt.title(title)\n",
    "    plt.colorbar()\n",
    "    tick_marks = np.arange(len(classes))\n",
    "    plt.xticks(tick_marks, classes, rotation=45)\n",
    "    plt.yticks(tick_marks, classes)\n",
    "\n",
    "    fmt = '.2f' if normalize else 'd'\n",
    "    thresh = cm.max() / 2.\n",
    "    for i, j in itertools.product(range(cm.shape[0]), range(cm.shape[1])):\n",
    "        plt.text(j, i, format(cm[i, j], fmt),\n",
    "                 horizontalalignment=\"center\",\n",
    "                 color=\"white\" if cm[i, j] > thresh else \"black\")\n",
    "\n",
    "    plt.ylabel('True label')\n",
    "    plt.xlabel('Predicted label')\n",
    "    plt.tight_layout()"
   ]
  },
  {
   "cell_type": "code",
   "execution_count": 64,
   "metadata": {},
   "outputs": [],
   "source": [
    "prediction_samp=10000\n",
    "y = np.asarray(predict(35,prediction_samp,test)).reshape(-1,1)\n",
    "y_true = test[:prediction_samp,-1].reshape(-1,1)"
   ]
  },
  {
   "cell_type": "markdown",
   "metadata": {},
   "source": [
    "For a default test, let's set the probability threshold at 0.5 and see how the model captures the sparse anomalies:"
   ]
  },
  {
   "cell_type": "code",
   "execution_count": 69,
   "metadata": {
    "scrolled": true
   },
   "outputs": [
    {
     "data": {
      "image/png": "[encoded data removed]",
      "text/plain": [
       "<Figure size 432x288 with 1 Axes>"
      ]
     },
     "metadata": {},
     "output_type": "display_data"
    },
    {
     "name": "stdout",
     "output_type": "stream",
     "text": [
      "total number of anomalies predicted (red dots at 1) = 11\n",
      "total number of actual anomalies (blue dots at 1) = 10\n",
      "total number of anomalies truely predicted/true positive (blue red overlapped at 1)= 9\n",
      "True  positive rate (TPR), Sensitivity, Prob of detection = 0.9\n",
      "False negative rate (FNR), Miss rate= 0.1\n",
      "True  negative rate (TNR), Specificity, Selectivity = 0.9998\n",
      "False positive rate (FPR), Fall-out, Prob of false alarm = 0.0002\n",
      "Normalized confusion matrix\n",
      "[[1.e+00 2.e-04]\n",
      " [1.e-01 9.e-01]]\n"
     ]
    },
    {
     "data": {
      "image/png": "[encoded data removed]",
      "text/plain": [
       "<Figure size 432x288 with 2 Axes>"
      ]
     },
     "metadata": {},
     "output_type": "display_data"
    },
    {
     "name": "stdout",
     "output_type": "stream",
     "text": [
      "Prevalence = 0.1%, close to the population anomaly 0.17%\n",
      "Accuracy = 0.9997\n",
      "Positive Predictive Value (PPV), Precision = 0.8182\n",
      "False discovery rate (FDR) = 0.1818\n",
      "False omission rate (FOR) = 0.0001\n",
      "Negative predictive value (NPV) = 0.9999\n",
      "F1 score = 2*PPV*TPR/(PPV+TPR) = 0.8571428571428572\n",
      "Fbeta score = (1+beta^2)*PPV*TPR/(beta^2*PPV+TPR) = 0.8333\n"
     ]
    }
   ],
   "source": [
    "#plt.plot(range(0,prediction_samp),test_data,'b.')\n",
    "threshold = 0.7\n",
    "\n",
    "ia      = np.nonzero(y_true==1)[0]\n",
    "ina     = np.nonzero(y_true==0)[0]\n",
    "preda   = np.asarray([i>threshold for i in y]) # boolean index for anom\n",
    "predna  = np.asarray([i<=threshold for i in y]) # boolean index for non-anom\n",
    "ipreda  = np.nonzero(preda)[0] # index of anom\n",
    "ipredna = np.nonzero(predna)[0] # index of non-anom\n",
    "npreda  = preda.sum() # number of predicted anom\n",
    "npredna = predna.sum() # number of predicted non-anom\n",
    "y_test  = np.array(y)\n",
    "y_test[ipreda] = 1\n",
    "y_test[ipredna] = 0\n",
    "#y[i<=0.5 for i in y]=0\n",
    "plt.plot(range(0,prediction_samp),y_test,'ro')\n",
    "plt.plot(range(0,prediction_samp),y_true,'b.')\n",
    "plt.show()\n",
    "nactuala   = sum(i==1 for i in y_true)\n",
    "nactualna = sum(i==0 for i in y_true)\n",
    "tp = len(set(ipreda)&set(ia))\n",
    "fn = len(set(ipredna)&set(ia))\n",
    "tn = len(set(ipredna)&set(ina))\n",
    "fp = len(set(ipreda)&set(ina))\n",
    "tpr = tp/nactuala\n",
    "fnr = fn/nactuala\n",
    "tnr = tn/nactualna\n",
    "fpr = fp/nactualna\n",
    "ppv = tp/npreda\n",
    "f1_score = 2*(1/(1/tpr+1/ppv)) #f1 = sklearn.metrics.f1_score(y_true,y_test)\n",
    "beta = 0.5\n",
    "fbeta_score = (1+beta**2)*tpr*ppv/(beta**2*ppv+tpr) #fb = sklearn.metrics.fbeta_score(y_true,y_test,beta)\n",
    "print('total number of anomalies predicted (red dots at 1) = '+str(npreda))\n",
    "print('total number of actual anomalies (blue dots at 1) = '+ str(*nactuala))\n",
    "print('total number of anomalies truely predicted/true positive (blue red overlapped at 1)= '+str(tp))\n",
    "#print('total number of non-anomalies predicted = '+str(np.count_nonzero(ineg)))\n",
    "print('True  positive rate (TPR), Sensitivity, Prob of detection = '+str(*tpr)) # model forecast pos and actually pos\n",
    "print('False negative rate (FNR), Miss rate= '+str(*fnr))\n",
    "print('True  negative rate (TNR), Specificity, Selectivity = '+str(*tnr.round(4))) # model forecast neg but actually pos\n",
    "print('False positive rate (FPR), Fall-out, Prob of false alarm = '+str(*fpr.round(4))) \n",
    "cnf_matrix = sklearn.metrics.confusion_matrix(y_true, y_test,labels=[0,1])\n",
    "plt.figure()\n",
    "np.set_printoptions(precision=2)\n",
    "plot_confusion_matrix(cnf_matrix, classes=['non-anomaly','anomaly'], normalize=True,\n",
    "                      title='Confusion matrix')\n",
    "plt.show()\n",
    "\n",
    "print('Prevalence = %s%%, close to the population anomaly 0.17%%'%str(*nactuala/prediction_samp*100))\n",
    "print('Accuracy = '+str((tp+tn)/prediction_samp))\n",
    "print('Positive Predictive Value (PPV), Precision = '+str(ppv.round(4)))\n",
    "print('False discovery rate (FDR) = '+str((fp/npreda).round(4)))\n",
    "print('False omission rate (FOR) = '+str((fn/npredna).round(4)))\n",
    "print('Negative predictive value (NPV) = '+str((tn/npredna).round(4)))\n",
    "print('F1 score = 2*PPV*TPR/(PPV+TPR) = '+str(*f1_score)) # the harmonic mean of precision and recall\n",
    "print('Fbeta score = (1+beta^2)*PPV*TPR/(beta^2*PPV+TPR) = '+str(*fbeta_score.round(4))) # the harmonic mean of precision and recall\n",
    "# tn, fp, fn, tp = sklearn.metrics.confusion_matrix(y_true, y_test,labels=[0,1]).ravel()\n"
   ]
  },
  {
   "cell_type": "markdown",
   "metadata": {},
   "source": [
    "As shown in the above figure, with a test sample size of 10000, the algorithm captured 9 out of 10 actual anomalies (blue dots at ones). This model is good with small FPR (0.1) and large TPR (0.9), but just ok when looking at F1 and Fbeta scores.\n",
    "\n",
    "So can we do better by shifting the threshold?\n",
    "\n",
    "# Sensitivity analysis\n",
    "\n",
    "The threshold essentially controls our model performance, which in turns affects the sensitivity/TPR/recall. \n",
    "\n",
    "Let's look at the two figures below to understand how the threshold can affect our results. Suppose there are two predicted probability distributions: true negative (blue) and true positive (red) classes tagged on the predicted values (0 to 1 on x-axis). Given a threshold value (black stick), the areas under the distributions separated by the threhold are the (TPR,TNR,FPR,FNR) quadruple. For overlapped and shifted distributions (bottom figure), the threhold is definitely not 0.5 anymore.\n",
    "\n",
    "How does this related to Receiver Operating Characteristic (ROC) curve?\n",
    "\n",
    "The ROC curve is just the (FPR,TPR) tuples to the right of the threshold formed by shifting the entire threshold from 0 to 1. The Area Under Curve (AUC) shows how \"separated/overlapped\" the predicted distributions negative class (blue) and true predicted positive class (red) distributions are. The larger AUC shows a better separated predicted distributions, i.e., higher TPR with lower FPR easily obtained! \n",
    "\n",
    "Top (bottom) figure shows the two distributions separated (overlapped) and the ROC curve hugging (parting) the top-left corner, which is a good (bad) prediction model! "
   ]
  },
  {
   "cell_type": "markdown",
   "metadata": {},
   "source": [
    "\n",
    "<img src=\"roc3.png\" alt=\"drawing\" width=\"400\"/>\n",
    "<img src=\"roc4.png\" alt=\"drawing\" width=\"400\"/>"
   ]
  },
  {
   "cell_type": "markdown",
   "metadata": {},
   "source": [
    "Let's see how the two distributions look like in our case:"
   ]
  },
  {
   "cell_type": "code",
   "execution_count": 70,
   "metadata": {},
   "outputs": [
    {
     "data": {
      "image/png": "[encoded data removed]",
      "text/plain": [
       "<Figure size 1080x216 with 2 Axes>"
      ]
     },
     "metadata": {},
     "output_type": "display_data"
    }
   ],
   "source": [
    "def plot_np_dist(y_true,y_pred):\n",
    "    nbins = 50\n",
    "    plt.figure(figsize=(15,3))\n",
    "    plt.subplot(121)\n",
    "    plt.title('Density histogram of Anomaly (red) and Non-anomaly (blue)')\n",
    "    plt.hist(y_pred[np.nonzero(y_true==0)],density=True,bins=nbins,color='b',rwidth=1);     \n",
    "    plt.hist(y_pred[np.nonzero(y_true)],density=True,bins=nbins,color='r',rwidth=.7);     \n",
    "    plt.xlim([0,1])\n",
    "    plt.subplot(122)\n",
    "    #plt.figure(figsize=(8,3))\n",
    "    plt.title('Log scaled histogram of Anomaly (red) and Non-anomaly (blue)')\n",
    "    plt.hist(y_pred[np.nonzero(y_true==0)],density=True,log=True,bins=nbins,color='b',rwidth=1);     \n",
    "    plt.hist(y_pred[np.nonzero(y_true)],density=True,log=True,bins=nbins,color='r',rwidth=.7);     \n",
    "    plt.xlim([0,1])\n",
    "    plt.show()\n",
    "    \n",
    "y_test = np.array(y)\n",
    "y_true = test[:prediction_samp,-1].reshape(-1,1)\n",
    "plot_np_dist(y_true,y_test)\n",
    "\n"
   ]
  },
  {
   "cell_type": "markdown",
   "metadata": {},
   "source": [
    "At first glance using the desity (left panel), the two distributions are very well separated! But when the zero values are removed in the log histogram (right panel), results seems a little tricky. The threshold might be better at a higher value (e.g., 0.7) to get better seperation for such small sample size.\n",
    "\n",
    "**Here's the catch!** When there're imbalanced classes, a few false positive cases will generate a tiny FPR (e.g., two out of a thousand cases), and seems like a good ROC curve. But these false positive cases will greatly contaminate the small anomaly samples! This happened when you look at the 14 cases predicted, but only 9 are actually true anomalies.\n",
    "\n",
    "Let's see how ROC may be misleading at this small anomaly sample:"
   ]
  },
  {
   "cell_type": "code",
   "execution_count": 72,
   "metadata": {},
   "outputs": [
    {
     "name": "stdout",
     "output_type": "stream",
     "text": [
      "Area Under Curve = 98.80\n"
     ]
    },
    {
     "data": {
      "image/png": "[encoded data removed]",
      "text/plain": [
       "<Figure size 360x360 with 1 Axes>"
      ]
     },
     "metadata": {},
     "output_type": "display_data"
    }
   ],
   "source": [
    "area_under_roc = sklearn.metrics.roc_auc_score(y_true, y_test) \n",
    "print('Area Under Curve = {:0.2f}'.format(area_under_roc*100))\n",
    "fpr, tpr, thresholds = sklearn.metrics.roc_curve(y_true, y_test)\n",
    "roc_auc = sklearn.metrics.auc(fpr, tpr) # Area Under ROC Curve\n",
    "\n",
    "#plt.figure()\n",
    "plt.figure(figsize=(5,5))\n",
    "plt.plot(fpr, tpr, color='darkorange',\n",
    "         lw=2, label='ROC curve (area = %0.2f)' % roc_auc)\n",
    "\n",
    "plt.plot([0, 1], [0, 1], color='navy', lw=2, linestyle='--')\n",
    "plt.xlim([0.0, 1.0])\n",
    "plt.ylim([0.0, 1.05])\n",
    "# ROC considers all thresholds of probabilities to plot the yellow curve\n",
    "# suppose at FPR=0.1, the TPR=0.9\n",
    "plt.xlabel('False Positive Rate') \n",
    "plt.ylabel('True Positive Rate')\n",
    "plt.title('Receiver Operating Characteristic')\n",
    "plt.legend(loc=\"lower right\")\n",
    "\n",
    "plt.show()"
   ]
  },
  {
   "cell_type": "markdown",
   "metadata": {},
   "source": [
    "The AUC is 99%! But as we know if we want to reduce the small number of false positive cases, this curve won't tell the whole story. "
   ]
  },
  {
   "cell_type": "markdown",
   "metadata": {},
   "source": [
    "# Summary\n",
    "Key takeaway:\n",
    "\n",
    "* The imbalanced classes with multi-features can be trained by anomaly duplication with great prediction accuracy\n",
    "* If one tries to reduce false positive cases, simple histogram and confusion matrix may be more revealing than ROC \n",
    "* Use F1 and Fbeta scores to represent prediction accuracy\n",
    "\n"
   ]
  },
  {
   "cell_type": "markdown",
   "metadata": {},
   "source": [
    "# Reference\n",
    "[F1 score](https://en.wikipedia.org/wiki/F1_score)"
   ]
  },
  {
   "cell_type": "code",
   "execution_count": null,
   "metadata": {},
   "outputs": [],
   "source": []
  }
 ],
 "metadata": {
  "kernelspec": {
   "display_name": "Python 3",
   "language": "python",
   "name": "python3"
  },
  "language_info": {
   "codemirror_mode": {
    "name": "ipython",
    "version": 3
   },
   "file_extension": ".py",
   "mimetype": "text/x-python",
   "name": "python",
   "nbconvert_exporter": "python",
   "pygments_lexer": "ipython3",
   "version": "3.5.0"
  }
 },
 "nbformat": 4,
 "nbformat_minor": 2
}
